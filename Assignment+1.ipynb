{
  "nbformat": 4,
  "nbformat_minor": 0,
  "metadata": {
    "coursera": {
      "course_slug": "python-text-mining",
      "graded_item_id": "LvcWI",
      "launcher_item_id": "krne9",
      "part_id": "Mkp1I"
    },
    "kernelspec": {
      "display_name": "Python 3",
      "language": "python",
      "name": "python3"
    },
    "language_info": {
      "codemirror_mode": {
        "name": "ipython",
        "version": 3
      },
      "file_extension": ".py",
      "mimetype": "text/x-python",
      "name": "python",
      "nbconvert_exporter": "python",
      "pygments_lexer": "ipython3",
      "version": "3.6.2"
    },
    "colab": {
      "name": "Assignment+1.ipynb",
      "provenance": [],
      "collapsed_sections": [],
      "include_colab_link": true
    }
  },
  "cells": [
    {
      "cell_type": "markdown",
      "metadata": {
        "id": "view-in-github",
        "colab_type": "text"
      },
      "source": [
        "<a href=\"https://colab.research.google.com/github/qwe030609/python-web-crawler/blob/master/Assignment%2B1.ipynb\" target=\"_parent\"><img src=\"https://colab.research.google.com/assets/colab-badge.svg\" alt=\"Open In Colab\"/></a>"
      ]
    },
    {
      "cell_type": "markdown",
      "metadata": {
        "id": "yHuFAQouJwoA",
        "colab_type": "text"
      },
      "source": [
        "---\n",
        "\n",
        "_You are currently looking at **version 1.1** of this notebook. To download notebooks and datafiles, as well as get help on Jupyter notebooks in the Coursera platform, visit the [Jupyter Notebook FAQ](https://www.coursera.org/learn/python-text-mining/resources/d9pwm) course resource._\n",
        "\n",
        "---"
      ]
    },
    {
      "cell_type": "markdown",
      "metadata": {
        "id": "k_r3hcpdJwoC",
        "colab_type": "text"
      },
      "source": [
        "# Assignment 1\n",
        "\n",
        "In this assignment, you'll be working with messy medical data and using regex to extract relevant infromation from the data. \n",
        "\n",
        "Each line of the `dates.txt` file corresponds to a medical note. Each note has a date that needs to be extracted, but each date is encoded in one of many formats.\n",
        "\n",
        "The goal of this assignment is to correctly identify all of the different date variants encoded in this dataset and to properly normalize and sort the dates. \n",
        "\n",
        "Here is a list of some of the variants you might encounter in this dataset:\n",
        "* 04/20/2009; 04/20/09; 4/20/09; 4/3/09\n",
        "* Mar-20-2009; Mar 20, 2009; March 20, 2009;  Mar. 20, 2009; Mar 20 2009;\n",
        "* 20 Mar 2009; 20 March 2009; 20 Mar. 2009; 20 March, 2009\n",
        "* Mar 20th, 2009; Mar 21st, 2009; Mar 22nd, 2009\n",
        "* Feb 2009; Sep 2009; Oct 2010\n",
        "* 6/2008; 12/2009\n",
        "* 2009; 2010\n",
        "\n",
        "Once you have extracted these date patterns from the text, the next step is to sort them in ascending chronological order accoring to the following rules:\n",
        "* Assume all dates in xx/xx/xx format are mm/dd/yy\n",
        "* Assume all dates where year is encoded in only two digits are years from the 1900's (e.g. 1/5/89 is January 5th, 1989)\n",
        "* If the day is missing (e.g. 9/2009), assume it is the first day of the month (e.g. September 1, 2009).\n",
        "* If the month is missing (e.g. 2010), assume it is the first of January of that year (e.g. January 1, 2010).\n",
        "* Watch out for potential typos as this is a raw, real-life derived dataset.\n",
        "\n",
        "With these rules in mind, find the correct date in each note and return a pandas Series in chronological order of the original Series' indices.\n",
        "\n",
        "For example if the original series was this:\n",
        "\n",
        "    0    1999\n",
        "    1    2010\n",
        "    2    1978\n",
        "    3    2015\n",
        "    4    1985\n",
        "\n",
        "Your function should return this:\n",
        "\n",
        "    0    2\n",
        "    1    4\n",
        "    2    0\n",
        "    3    1\n",
        "    4    3\n",
        "\n",
        "Your score will be calculated using [Kendall's tau](https://en.wikipedia.org/wiki/Kendall_rank_correlation_coefficient), a correlation measure for ordinal data.\n",
        "\n",
        "*This function should return a Series of length 500 and dtype int.*"
      ]
    },
    {
      "cell_type": "code",
      "metadata": {
        "id": "M4IyX-i1JwoF",
        "colab_type": "code",
        "colab": {}
      },
      "source": [
        "import pandas as pd\n",
        "from datetime import datetime\n",
        "import re\n",
        "\n",
        "doc = []\n",
        "with open('dates.txt') as file:\n",
        "    for line in file:\n",
        "        doc.append(line)\n",
        "\n",
        "df = pd.Series(doc)"
      ],
      "execution_count": 0,
      "outputs": []
    },
    {
      "cell_type": "markdown",
      "metadata": {
        "id": "VQyGgOwNJwoK",
        "colab_type": "text"
      },
      "source": [
        "04/20/2009; 04/20/09; 4/20/09; 4/3/09\n",
        "Mar-20-2009; Mar 20, 2009; March 20, 2009; Mar. 20, 2009; Mar 20 2009;\n",
        "20 Mar 2009; 20 March 2009; 20 Mar. 2009; 20 March, 2009\n",
        "Mar 20th, 2009; Mar 21st, 2009; Mar 22nd, 2009\n",
        "Feb 2009; Sep 2009; Oct 2010\n",
        "6/2008; 12/2009\n",
        "2009; 2010"
      ]
    },
    {
      "cell_type": "code",
      "metadata": {
        "id": "OBT-QTV7YKqz",
        "colab_type": "code",
        "colab": {
          "base_uri": "https://localhost:8080/",
          "height": 195
        },
        "outputId": "a9d76c34-1690-4745-81c9-b5c1f3ca67af"
      },
      "source": [
        "#  df1[2][:].str.len() == 2\n",
        "# df1[2][100].replace('92', '1')\n",
        "# len(df1[2][0])\n",
        "df11 = pd.DataFrame({'A': [0, 0, 2, 3, 4],\n",
        "                   'B': [5, 6, 0, 0, 9],\n",
        "                   'C': ['a', 'a', 'c', 'd', 'e']})\n",
        "df11.replace('a', 5)"
      ],
      "execution_count": 148,
      "outputs": [
        {
          "output_type": "execute_result",
          "data": {
            "text/html": [
              "<div>\n",
              "<style scoped>\n",
              "    .dataframe tbody tr th:only-of-type {\n",
              "        vertical-align: middle;\n",
              "    }\n",
              "\n",
              "    .dataframe tbody tr th {\n",
              "        vertical-align: top;\n",
              "    }\n",
              "\n",
              "    .dataframe thead th {\n",
              "        text-align: right;\n",
              "    }\n",
              "</style>\n",
              "<table border=\"1\" class=\"dataframe\">\n",
              "  <thead>\n",
              "    <tr style=\"text-align: right;\">\n",
              "      <th></th>\n",
              "      <th>A</th>\n",
              "      <th>B</th>\n",
              "      <th>C</th>\n",
              "    </tr>\n",
              "  </thead>\n",
              "  <tbody>\n",
              "    <tr>\n",
              "      <th>0</th>\n",
              "      <td>0</td>\n",
              "      <td>5</td>\n",
              "      <td>5</td>\n",
              "    </tr>\n",
              "    <tr>\n",
              "      <th>1</th>\n",
              "      <td>0</td>\n",
              "      <td>6</td>\n",
              "      <td>5</td>\n",
              "    </tr>\n",
              "    <tr>\n",
              "      <th>2</th>\n",
              "      <td>2</td>\n",
              "      <td>0</td>\n",
              "      <td>c</td>\n",
              "    </tr>\n",
              "    <tr>\n",
              "      <th>3</th>\n",
              "      <td>3</td>\n",
              "      <td>0</td>\n",
              "      <td>d</td>\n",
              "    </tr>\n",
              "    <tr>\n",
              "      <th>4</th>\n",
              "      <td>4</td>\n",
              "      <td>9</td>\n",
              "      <td>e</td>\n",
              "    </tr>\n",
              "  </tbody>\n",
              "</table>\n",
              "</div>"
            ],
            "text/plain": [
              "   A  B  C\n",
              "0  0  5  5\n",
              "1  0  6  5\n",
              "2  2  0  c\n",
              "3  3  0  d\n",
              "4  4  9  e"
            ]
          },
          "metadata": {
            "tags": []
          },
          "execution_count": 148
        }
      ]
    },
    {
      "cell_type": "code",
      "metadata": {
        "id": "OGCNewyMrMGC",
        "colab_type": "code",
        "colab": {}
      },
      "source": [
        "# find all dates in the data\n",
        "df1 = df.str.findall(r'(\\d{1,3})[/-](\\d{1,2})[/-](\\d{2,4})')[:125]    # 0 ~ 124\n",
        "# print(df1[:50])   # 72 got 2 extracted\n",
        "# print(df1[50:100])\n",
        "# print(df1[100:])\n",
        "\n",
        "df2 = df.str.findall(r'(\\d{2} )?(Jan|Feb|Mar|Apr|May|Jun|Jul|Aug|Sep|Oct|Nov|Dec)[a-z.]*[-, ]*(\\d{2})?,* (\\d{4})')[125:343]\n",
        "# print(df2[:50])   # 125 ~ 342\n",
        "# print(df2[50:100])\n",
        "# print(df2[100:150])\n",
        "# print(df2[150:200])\n",
        "# print(df2[200:])\n",
        "\n",
        "df3 = df.str.findall(r'(\\d{1,3})?/*(\\d{1,2})?/*([1-2]\\d{3})')[343:]   # 343 ~ 500\n",
        "# print(df3[:50])   # 343 ~ 500\n",
        "# print(df3[50:100])\n",
        "# print(df3[100:150])\n",
        "# print(df3[150:])"
      ],
      "execution_count": 0,
      "outputs": []
    },
    {
      "cell_type": "code",
      "metadata": {
        "id": "WG38JfKDJwoL",
        "colab_type": "code",
        "colab": {
          "base_uri": "https://localhost:8080/",
          "height": 34
        },
        "outputId": "f2b6d02f-f503-4bf1-d62b-2cb0202f5bff"
      },
      "source": [
        "from datetime import datetime\n",
        "import re\n",
        "\n",
        "# after finding all data for dates, extract to a new date dataframe\n",
        "df1 = df.str.extract(r'(\\d{1,3})[/-](\\d{1,2})[/-](\\d{2,4})')[:125]\n",
        "df2 = df.str.extract(r'(\\d{2} )?(Jan|Feb|Mar|Apr|May|Jun|Jul|Aug|Sep|Oct|Nov|Dec)[a-z.]*[-, ]*(\\d{2})?,* (\\d{4})')[125:343]\n",
        "df3 = df.str.extract(r'(\\d{1,3})?/*(\\d{1,2})?/*([1-2]\\d{3})')[343:]\n",
        "\n",
        "# print(df2.iloc[60:120])\n",
        "# # df1.iloc[72:100]\n",
        "\n",
        "# clean the data and convert to uniform form\n",
        "# df1.head()\n",
        "# df2.head()\n",
        "# df3.head(60)\n",
        "\n",
        "# replace year xx in 2 digits to 19xx or 20xx for 4 digits\n",
        "for i in range(df1.shape[0]):\n",
        "  if len(df1[2][i]) == 2 and int(df1[2][i]) > 50: \n",
        "    df1[2][i] = df1[2][i].replace(df1[2][i], str(19) + df1[2][i])\n",
        "  elif len(df1[2][i]) == 2 and int(df1[2][i]) <= 50:\n",
        "    df1[2][i] = df1[2][i].replace(df1[2][i], str(20) + df1[2][i])\n",
        "\n",
        "# reorder df2\n",
        "df2 = df2[[1, 0, 3]] \n",
        "df2.columns = range(df2.shape[1])\n",
        "\n",
        "# fill missing values(NaN) with 1 \n",
        "df2.fillna(value = 1, inplace = True)\n",
        "df3.fillna(value = 1, inplace = True)\n",
        "\n",
        "# replace literal month values to numbers\n",
        "month_list = ['Jan', 'Feb', 'Mar', 'Apr', 'May', 'Jun', 'Jul', 'Aug', 'Sep', 'Oct', 'Nov', 'Dec']\n",
        "for i, month in enumerate(month_list):\n",
        "  df2.replace(month, i+1, inplace = True)\n",
        "\n",
        "# concatenate all df to a single df\n",
        "df_dates = pd.concat([df1, df2, df3])\n",
        "\n",
        "# rename columns titles to month, day, year\n",
        "df_dates.columns = ['month', 'day', 'year']\n",
        "\n",
        "# check dtype is correct (not object)\n",
        "# df_dates.info()\n",
        "\n",
        "# convert data type from str to int\n",
        "df_dates = df_dates.astype('int')\n",
        "# df_dates.info()\n",
        "                         \n",
        "# Sort the list in ascending order of dates\n",
        "df_dates = df_dates['month'].map(str) + '/' + df_dates['day'].map(str) + '/' + df_dates['year'].map(str)\n",
        "# df_dates.to_list().sort(key = lambda date: datetime.strptime(date, '%m/%d/%Y')) \n",
        "\n",
        "df_dates = pd.to_datetime(df_dates)\n",
        "df_dates_sorted = df_dates.sort_values()\n",
        "df_dates_sorted = df_dates_sorted.to_frame().reset_index()\n",
        "\n",
        "# output final dates index\n",
        "df_dates_sorted_index = df_dates_sorted['index']\n",
        "df_dates_sorted_index.dtype\n"
      ],
      "execution_count": 224,
      "outputs": [
        {
          "output_type": "execute_result",
          "data": {
            "text/plain": [
              "dtype('int64')"
            ]
          },
          "metadata": {
            "tags": []
          },
          "execution_count": 224
        }
      ]
    },
    {
      "cell_type": "code",
      "metadata": {
        "id": "MH179DFkJwoT",
        "colab_type": "code",
        "colab": {
          "base_uri": "https://localhost:8080/",
          "height": 235
        },
        "outputId": "a0856c98-82d6-47ce-a772-1da98c8848e5"
      },
      "source": [
        "def date_sorter(df):\n",
        "\n",
        "  # after finding all data for dates, extract to a new date dataframe\n",
        "  df1 = df.str.extract(r'(\\d{1,3})[/-](\\d{1,2})[/-](\\d{2,4})')[:125]\n",
        "  df2 = df.str.extract(r'(\\d{2} )?(Jan|Feb|Mar|Apr|May|Jun|Jul|Aug|Sep|Oct|Nov|Dec)[a-z.]*[-, ]*(\\d{2})?,* (\\d{4})')[125:343]\n",
        "  df3 = df.str.extract(r'(\\d{1,3})?/*(\\d{1,2})?/*([1-2]\\d{3})')[343:]\n",
        "\n",
        "  # print(df2.iloc[60:120])\n",
        "  # # df1.iloc[72:100]\n",
        "\n",
        "  # clean the data and convert to uniform form\n",
        "  # df1.head()\n",
        "  # df2.head()\n",
        "  # df3.head(60)\n",
        "\n",
        "  # replace year xx in 2 digits to 19xx or 20xx for 4 digits\n",
        "  for i in range(df1.shape[0]):\n",
        "    if len(df1[2][i]) == 2 and int(df1[2][i]) > 50: \n",
        "      df1[2][i] = df1[2][i].replace(df1[2][i], str(19) + df1[2][i])\n",
        "    elif len(df1[2][i]) == 2 and int(df1[2][i]) <= 50:\n",
        "      df1[2][i] = df1[2][i].replace(df1[2][i], str(20) + df1[2][i])\n",
        "\n",
        "  # reorder df2\n",
        "  df2 = df2[[1, 0, 3]] \n",
        "  df2.columns = range(df2.shape[1])\n",
        "\n",
        "  # fill missing values(NaN) with 1 \n",
        "  df2.fillna(value = 1, inplace = True)\n",
        "  df3.fillna(value = 1, inplace = True)\n",
        "\n",
        "  # replace literal month values to numbers\n",
        "  month_list = ['Jan', 'Feb', 'Mar', 'Apr', 'May', 'Jun', 'Jul', 'Aug', 'Sep', 'Oct', 'Nov', 'Dec']\n",
        "  for i, month in enumerate(month_list):\n",
        "    df2.replace(month, i+1, inplace = True)\n",
        "\n",
        "  # concatenate all df to a single df\n",
        "  df_dates = pd.concat([df1, df2, df3])\n",
        "\n",
        "  # rename columns titles to month, day, year\n",
        "  df_dates.columns = ['month', 'day', 'year']\n",
        "\n",
        "  # check dtype is correct (not object)\n",
        "  # df_dates.info()\n",
        "\n",
        "  # convert data type from str to int\n",
        "  df_dates = df_dates.astype('int')\n",
        "  # df_dates.info()\n",
        "                          \n",
        "  # Sort the list in ascending order of dates\n",
        "  df_dates = df_dates['month'].map(str) + '/' + df_dates['day'].map(str) + '/' + df_dates['year'].map(str)\n",
        "  # df_dates.to_list().sort(key = lambda date: datetime.strptime(date, '%m/%d/%Y')) \n",
        "\n",
        "  df_dates = pd.to_datetime(df_dates)\n",
        "  df_dates_sorted = df_dates.sort_values()\n",
        "  df_dates_sorted = df_dates_sorted.to_frame().reset_index()\n",
        "\n",
        "  # output final dates index\n",
        "  df_dates_sorted_index = df_dates_sorted['index']\n",
        "\n",
        "  return df_dates_sorted_index\n",
        "date_sorter(df)  "
      ],
      "execution_count": 225,
      "outputs": [
        {
          "output_type": "stream",
          "text": [
            "ERROR! Session/line number was not unique in database. History logging moved to new session 69\n"
          ],
          "name": "stdout"
        },
        {
          "output_type": "execute_result",
          "data": {
            "text/plain": [
              "0        9\n",
              "1       84\n",
              "2        2\n",
              "3       53\n",
              "4       28\n",
              "      ... \n",
              "495    231\n",
              "496    141\n",
              "497    186\n",
              "498    161\n",
              "499    413\n",
              "Name: index, Length: 500, dtype: int64"
            ]
          },
          "metadata": {
            "tags": []
          },
          "execution_count": 225
        }
      ]
    }
  ]
}