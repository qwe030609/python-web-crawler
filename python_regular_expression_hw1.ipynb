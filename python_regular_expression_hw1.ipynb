{
  "nbformat": 4,
  "nbformat_minor": 0,
  "metadata": {
    "colab": {
      "name": "python regular expression hw1.ipynb",
      "provenance": [],
      "collapsed_sections": [],
      "authorship_tag": "ABX9TyMWGOfwynM+0JidU+hO8G+5",
      "include_colab_link": true
    },
    "kernelspec": {
      "name": "python3",
      "display_name": "Python 3"
    }
  },
  "cells": [
    {
      "cell_type": "markdown",
      "metadata": {
        "id": "view-in-github",
        "colab_type": "text"
      },
      "source": [
        "<a href=\"https://colab.research.google.com/github/qwe030609/python-web-crawler/blob/master/python_regular_expression_hw1.ipynb\" target=\"_parent\"><img src=\"https://colab.research.google.com/assets/colab-badge.svg\" alt=\"Open In Colab\"/></a>"
      ]
    },
    {
      "cell_type": "code",
      "metadata": {
        "id": "HeAY4nW3UguX",
        "colab_type": "code",
        "colab": {
          "base_uri": "https://localhost:8080/",
          "height": 218
        },
        "outputId": "d1f46b80-e77e-4406-fc74-78dd0ba3055b"
      },
      "source": [
        "import re\n",
        "import requests\n",
        "\n",
        "# URL of the data\n",
        "Sample_data_URL = 'http://py4e-data.dr-chuck.net/regex_sum_42.txt'\n",
        "Actual_data_URL = 'http://py4e-data.dr-chuck.net/regex_sum_394867.txt'\n",
        "\n",
        "# use requests to fetch the data (no need to download to local directory)\n",
        "headers = {\n",
        "    'x-rapidapi-host': \"py4e-data.dr-chuck.net\",\n",
        "    }\n",
        "\n",
        "response_sam = requests.request(\"GET\", Sample_data_URL, headers=headers)\n",
        "response_act = requests.request(\"GET\", Actual_data_URL, headers=headers)\n",
        "Sample_data = response_sam.text\n",
        "Actual_data = response_act.text\n",
        "\n",
        "# check all attributes in response \n",
        "# for att in dir(response):\n",
        "#    print(att, getattr(response, att))\n",
        "\n",
        "def sum_number_parser(raw_data):\n",
        "\n",
        "    # parsing data by re.findall\n",
        "    all_numbers = re.findall('[0-9]+', raw_data)\n",
        "    print(\"Data type is:\", type(all_numbers[0]))\n",
        "    \n",
        "    # convert str to int dtype\n",
        "    all_numbers = [int(numbers) for numbers in all_numbers]\n",
        "    \n",
        "    # check type\n",
        "    print(\"After conversion: \")\n",
        "    print(\"Data type is :\", type(all_numbers[0]), \"\\n\")\n",
        "    \n",
        "    # sum up all numbers\n",
        "    print(\"Total sum of the numbers found: \", sum(all_numbers), \"\\n\")\n",
        "\n",
        "# sample and actual result (number total sum)   \n",
        "sum_number_parser(Sample_data)    \n",
        "sum_number_parser(Actual_data)"
      ],
      "execution_count": 40,
      "outputs": [
        {
          "output_type": "stream",
          "text": [
            "Data type is: <class 'str'>\n",
            "After conversion: \n",
            "Data type is : <class 'int'> \n",
            "\n",
            "Total sum of the numbers found:  445833 \n",
            "\n",
            "Data type is: <class 'str'>\n",
            "After conversion: \n",
            "Data type is : <class 'int'> \n",
            "\n",
            "Total sum of the numbers found:  406282 \n",
            "\n"
          ],
          "name": "stdout"
        }
      ]
    }
  ]
}